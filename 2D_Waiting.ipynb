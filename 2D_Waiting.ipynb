{
 "cells": [
  {
   "cell_type": "code",
   "execution_count": 1,
   "id": "5156a795",
   "metadata": {},
   "outputs": [
    {
     "data": {
      "text/plain": [
       "\"/home/jakob/Dokumente/Repositories/Modeling_Framework/2D_Models/\""
      ]
     },
     "execution_count": 1,
     "metadata": {},
     "output_type": "execute_result"
    }
   ],
   "source": [
    "#### specify path of Julia Code for 2D Models ####\n",
    "### By default the working directory ./2D_Models ###\n",
    "path = string( pwd(), \"/2D_Models/\")"
   ]
  },
  {
   "cell_type": "code",
   "execution_count": 2,
   "id": "c34d98af",
   "metadata": {},
   "outputs": [],
   "source": [
    "##### include 2D Modelling Framework ####\n",
    "include(string(path, \"./2D_model_library.jl\"));\n",
    "\n",
    "\n",
    "########## OPERATIONAL ##########\n",
    "##### how to chose the actual velocity? #####\n",
    "\n",
    "#op_model = \"Constant\"\n",
    "#op_model = \"Collision_Free_Speed\"\n",
    "#op_model = \"RVO\"\n",
    "#op_model = \"SocialForce\"\n",
    "#op_model = \"AV_Model\"\n",
    "op_model = \"AV_IN_Model\"\n",
    "#op_model = \"IN_Costfunction\"\n",
    "\n",
    "#op_model = \"Intrusion_Force\"\n",
    "\n",
    "include_op_model(op_model, path)\n",
    "\n",
    "########## TACTICAL ##########\n",
    "#### how to chose the preferred velocity? ###\n",
    "\n",
    "tact_model = \"Constant\"\n",
    "#tact_model = \"IN_Model\"\n",
    "\n",
    "include_tact_model(tact_model, path)\n",
    "\n",
    "\n",
    "########## STRATEGIC ##########\n",
    "### how to chose the desired velocity ###\n",
    "\n",
    "strat_model = \"Constant\"\n",
    "#strat_model = \"Towards_Goal\"\n",
    "\n",
    "include_strat_model(strat_model, path)\n",
    "\n",
    "\n",
    "########## OPTIMIZATION SCHEME ##########\n",
    "### If optimization of a cost-function is included, how to solve? ###\n",
    "\n",
    "#optimization_scheme = \"Regular_Sampling\"\n",
    "optimization_scheme = \"Random_Sampling\"\n",
    "\n",
    "include_optimization_scheme(optimization_scheme, path)\n",
    "\n",
    "\n",
    "##### which update scheme? #####\n",
    "\n",
    "update = \"Parallel_Update\"\n",
    "#update = \"Step_Update\"\n",
    "\n",
    "include_update(update, path)\n",
    "\n",
    "\n",
    "##### which order? i.e. Acceleration or Velocity based? ####\n",
    "#order = \"first\"\n",
    "order = \"second\"\n",
    "\n",
    "include_order(order, path);"
   ]
  },
  {
   "cell_type": "code",
   "execution_count": 9,
   "id": "100a680c",
   "metadata": {},
   "outputs": [],
   "source": [
    "#### parameters of the agents ####\n",
    "p = [1.0, 0.0, 2.0, 1.0, 0.3, 0.0, 0.0, 0.1, 5.0, 8.0, 0.0, 0.0, 0.5, 0.0]\n",
    "# ModelParameter: v_max, v_des, T, T2, l, step_time, τ_A, τ_R, α, β, ζ_h, ζ_v, r, ϕ\n",
    "p_desc = \"v_max, T, T2, l, step_time, τ_A, τ_R, α, β, ζ_h, ζ_v, r, ϕ\"\n",
    "\n",
    "### of the system ###\n",
    "ρ = 2.55#3.74\n",
    "\n",
    "system_size = (5.0, 5.0) #important for periodic boundaries\n",
    "L = 5\n",
    "N = Int(round(ρ*L*L))\n",
    "\n",
    "### of the simulation ###\n",
    "sim_p = [0.0, 5.0, 0.05, 0.01, 3.0] #t_relax, t_max, dt_save, dt, r\n",
    "sim_p_desc = \"t_relax, t_max, dt_save, dt, r\"\n",
    "\n",
    "### initialize geometry ###\n",
    "geometrie = create_geometry_single_obstacle((37.5,31.5), 0.3)\n",
    "\n",
    "### initialize crowd ###\n",
    "menge = create_crowd(N, geometrie)\n",
    "Init_Hom_Parameters!(p, menge)\n",
    "Init_Hom_Vels!(menge, 0.0)\n",
    "\n",
    "CrowdOneSide!(menge, 0.4, 0.0, L)"
   ]
  },
  {
   "cell_type": "code",
   "execution_count": null,
   "id": "5f70d807",
   "metadata": {},
   "outputs": [],
   "source": [
    "positions, headings = Simulate!(menge, geometrie, sim_p[1], sim_p[2], sim_p[3], sim_p[4], sim_p[5], system_size);"
   ]
  },
  {
   "cell_type": "code",
   "execution_count": null,
   "id": "9346425c",
   "metadata": {},
   "outputs": [],
   "source": [
    "using GR\n",
    "GR.inline(\"mov\")\n",
    "\n",
    "j = 1\n",
    "\n",
    "dt_save = sim_p[3]\n",
    "geometry_x, geometry_y = rewrite_geometry(geometrie)\n",
    "boundaries_x, boundaries_y = boundaries_rectangle_positions(system_size)\n",
    "\n",
    "while j*sim_p[3] < sim_p[2]-sim_p[1]\n",
    "    \n",
    "        GR.clearws()\n",
    "\n",
    "        GR.setwindow(-1, 11, -1, 11)\n",
    "        GR.setviewport(0.0, 1, 0.0, 1)    \n",
    "\n",
    "        plot_boundaries(boundaries_x, boundaries_y, 0.2, 999)        \n",
    "\n",
    "        plot_agents(positions[j, :], headings[j, :], 2.3, 100, 0.7, 999, 0.1)\n",
    "    \n",
    "        model = op_model\n",
    "        timer = string(\"time \", round(j*dt_save, digits = 1), \"s\")\n",
    "        GR.text(0.7, 0.95, timer)\n",
    "        GR.text(0.7, 0.9, model)\n",
    "        \n",
    "        GR.updatews()\n",
    "    \n",
    "        j = j+1\n",
    "end"
   ]
  },
  {
   "cell_type": "code",
   "execution_count": null,
   "id": "a2b05ed8",
   "metadata": {},
   "outputs": [],
   "source": [
    "GR.show()"
   ]
  },
  {
   "cell_type": "code",
   "execution_count": 23,
   "id": "e5438696",
   "metadata": {},
   "outputs": [],
   "source": [
    "Path = \"/home/jakob/Dokumente/Sim_Data/\"\n",
    "dir = \"Waiting_AV\"\n",
    "header = Header(p, p_desc, sim_p, sim_p_desc, op_model, tact_model, order, update, N, system_size);\n",
    "\n",
    "Save_Data!(Path, dir, header, positions)"
   ]
  },
  {
   "cell_type": "code",
   "execution_count": null,
   "id": "03ba3ef0",
   "metadata": {},
   "outputs": [],
   "source": [
    "name = \"Waiting\"\n",
    "path = \"/home/jakob/Dokumente/Renne_Software/UMANS_3/examples/agents/\"\n",
    "\n",
    "#Set_Goal_from_E_des!(menge, (99.0, 0.0))\n",
    "Change_Coordinate_System_Agents!(menge, -1 .*(system_size./2))\n",
    "Write_Agents_XML(menge, name, path)"
   ]
  },
  {
   "cell_type": "code",
   "execution_count": null,
   "id": "03cf4b08",
   "metadata": {},
   "outputs": [],
   "source": [
    "path = \"/home/jakob/Dokumente/Renne_Software/WithWaiting/examples/\"\n",
    "policy = \"Moussaid\"\n",
    "agents = \"Waiting_\"\n",
    "\n",
    "name = string(agents, policy)\n",
    "\n",
    "\n",
    "Write_Scenario_XML(path, name, sim_p, system_size, policy, agents)"
   ]
  }
 ],
 "metadata": {
  "kernelspec": {
   "display_name": "Julia 1.6.1",
   "language": "julia",
   "name": "julia-1.6"
  },
  "language_info": {
   "file_extension": ".jl",
   "mimetype": "application/julia",
   "name": "julia",
   "version": "1.6.1"
  }
 },
 "nbformat": 4,
 "nbformat_minor": 5
}
