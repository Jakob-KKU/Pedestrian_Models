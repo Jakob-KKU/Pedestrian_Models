{
 "cells": [
  {
   "cell_type": "code",
   "execution_count": 91,
   "id": "78f26696",
   "metadata": {},
   "outputs": [
    {
     "data": {
      "text/plain": [
       "\"/home/jakob/Dokumente/Repositories/Modeling_Framework/2D_Models/\""
      ]
     },
     "execution_count": 91,
     "metadata": {},
     "output_type": "execute_result"
    }
   ],
   "source": [
    "#### specify path of Julia Code for 2D Models ####\n",
    "### By default the working directory ./2D_Models ###\n",
    "path = string( pwd(), \"/2D_Models/\")"
   ]
  },
  {
   "cell_type": "code",
   "execution_count": 92,
   "id": "c34d98af",
   "metadata": {},
   "outputs": [
    {
     "name": "stdout",
     "output_type": "stream",
     "text": [
      "Typical parameters would be:\n",
      "[2.0, 1.7, 3.0, 0.0, 0.3, 0.0, 0.0, 0.1, 0.0, 5.0, 0.0, 0.0, 0.0, 0.0]\n",
      "v_max, v_des, T, T2, l, step_time, τ_A, τ_R, α, β, ζ_h, ζ_v, r, λ\n"
     ]
    }
   ],
   "source": [
    "##### include 2D Modelling Framework ####\n",
    "include(string(path, \"./2D_model_library.jl\"));\n",
    "\n",
    "\n",
    "########## OPERATIONAL ##########\n",
    "##### how to chose the actual velocity? #####\n",
    "\n",
    "#op_model = \"Constant\"\n",
    "#op_model = \"Collision_Free_Speed\"\n",
    "#op_model = \"RVO\"\n",
    "#op_model = \"SocialForce\"\n",
    "op_model = \"AV_Model\"\n",
    "#op_model = \"AV_IN_Model\"\n",
    "#op_model = \"PowerLaw\"\n",
    "#op_model = \"IN_Costfunction\"\n",
    "#op_model = \"IN_Model\"\n",
    "#op_model = \"SocialForce\"\n",
    "#op_model = \"SocialForce_Elliptical_A\"\n",
    "#op_model = \"SocialForce_Elliptical_B\"\n",
    "#op_model = \"SocialForce_CollisionPrediction\"\n",
    "\n",
    "\n",
    "include_op_model(op_model, path)\n",
    "\n",
    "########## TACTICAL ##########\n",
    "#### how to chose the preferred velocity? ###\n",
    "\n",
    "tact_model = \"Constant\"\n",
    "#tact_model = \"IN_Model\"\n",
    "\n",
    "include_tact_model(tact_model, path)\n",
    "\n",
    "\n",
    "########## STRATEGIC ##########\n",
    "### how to chose the desired velocity ###\n",
    "\n",
    "strat_model = \"Constant\"\n",
    "#strat_model = \"Towards_Goal\"\n",
    "#strat_model = \"Two_Goals\"\n",
    "\n",
    "include_strat_model(strat_model, path)\n",
    "\n",
    "\n",
    "########## OPTIMIZATION SCHEME ##########\n",
    "### If optimization of a cost-function is included, how to solve? ###\n",
    "\n",
    "#optimization_scheme = \"Regular_Sampling\"\n",
    "optimization_scheme = \"Random_Sampling\"\n",
    "\n",
    "include_optimization_scheme(optimization_scheme, path)\n",
    "\n",
    "\n",
    "##### which update scheme? #####\n",
    "\n",
    "update = \"Parallel_Update\"\n",
    "#update = \"Step_Update\"\n",
    "\n",
    "include_update(update, path)\n",
    "\n",
    "\n",
    "##### which order? i.e. Acceleration or Velocity based? ####\n",
    "#order = \"first\"\n",
    "order = \"second\"\n",
    "\n",
    "include_order(order, path)\n",
    "\n",
    "\n",
    "##### PERCEPTIONAL MODEL ####\n",
    "perception_model = \"None\"\n",
    "#perception_model = \"Only_in_Front\"\n",
    "\n",
    "include_perception_model(perception_model, path)"
   ]
  },
  {
   "cell_type": "code",
   "execution_count": 93,
   "id": "965a4dd1",
   "metadata": {},
   "outputs": [],
   "source": [
    "#### Special Scenario? ####\n",
    "x = \"Obstacle_Intruder\"\n",
    "#x = \"Diminish_ANT_LF\"\n",
    "\n",
    "load_scenario(x, path)"
   ]
  },
  {
   "cell_type": "code",
   "execution_count": 94,
   "id": "a703fdca",
   "metadata": {},
   "outputs": [
    {
     "data": {
      "text/plain": [
       "0.45710678118654746"
      ]
     },
     "execution_count": 94,
     "metadata": {},
     "output_type": "execute_result"
    }
   ],
   "source": [
    "ρ = 2\n",
    "\n",
    "max(1/√ρ - 0.25, 0.3)"
   ]
  },
  {
   "cell_type": "code",
   "execution_count": 120,
   "id": "100a680c",
   "metadata": {},
   "outputs": [
    {
     "name": "stdout",
     "output_type": "stream",
     "text": [
      "1.5033207337780499\n"
     ]
    }
   ],
   "source": [
    "#### parameters of the agents ####\n",
    "p = [1.0, 0.0, 3.0, 0.0, 0.3, 0.2, 0.0, 0.1, 0.02, 1.0, 0.0, 0.0, 0.5, 0.0]\n",
    "# ModelParameter: v_max, v_des, T, T2, l, l_min, τ_A, τ_R, α, β, ζ_h, ζ_v, r, ϕ\n",
    "p_desc = \"v_max, v_des, T, T2, l, l_min, τ_A, τ_R, α, β, ζ_h, ζ_v, r, ϕ\"\n",
    "\n",
    "### of the system ###\n",
    "ρ = 1.5\n",
    "system_size = (8.0, 4.0) #important for periodic boundaries\n",
    "N = Int(round(ρ*system_size[1]*system_size[2]))\n",
    "\n",
    "### of the simulation ###\n",
    "sim_p = [10.0, 10.0 + 8.1/0.3, 0.05, 0.01, 3.0] #t_relax, t_max, dt_save, dt, r\n",
    "sim_p_desc = \"t_relax, t_max, dt_save, dt, r\"\n",
    "\n",
    "### initialize geometry ###\n",
    "geometrie = create_geometry_single_obstacle((37.5,31.5), 0.3)\n",
    "\n",
    "### initialize crowd ###\n",
    "menge = create_crowd(N, geometrie)\n",
    "\n",
    "Init_Hom_Parameters!(p, menge)\n",
    "Init_Hom_Vels!(menge, 0.1)\n",
    "Init_E_des!(menge, (1.0, 0.0))\n",
    "\n",
    "#initialize_random_positions(system_size, menge, geometrie)\n",
    "#CrowdOneSide!(menge, 0.5, 0.0, 4.0)\n",
    "Init_Homogeneous_Random_InitialPositions_INTRUDER(menge, geometrie, system_size, 0.25)\n",
    "\n",
    "Init_Random_Headings!(menge)\n",
    "\n",
    "vel, l_obs = 0.3, 0.7\n",
    "Init_Nth_Agent_as_Moving_Obstacle!(menge, system_size, l_obs, vel);"
   ]
  },
  {
   "cell_type": "code",
   "execution_count": 121,
   "id": "5f70d807",
   "metadata": {},
   "outputs": [],
   "source": [
    "positions, headings = Simulate!(menge, geometrie, sim_p[1], sim_p[2], sim_p[3], sim_p[4], sim_p[5], system_size);"
   ]
  },
  {
   "cell_type": "code",
   "execution_count": null,
   "id": "9346425c",
   "metadata": {},
   "outputs": [],
   "source": [
    "using GR\n",
    "GR.inline(\"mov\")\n",
    "\n",
    "j = 1\n",
    "\n",
    "dt_save = sim_p[3]\n",
    "geometry_x, geometry_y = rewrite_geometry(geometrie)\n",
    "boundaries_x, boundaries_y = boundaries_rectangle_positions(system_size)\n",
    "\n",
    "while j*sim_p[3] < sim_p[2]-sim_p[1]\n",
    "    \n",
    "        GR.clearws()\n",
    "\n",
    "        GR.setwindow(-1, 11, -1, 11)\n",
    "        GR.setviewport(0.0, 1, 0.0, 1)\n",
    "    \n",
    "\n",
    "        plot_boundaries(boundaries_x, boundaries_y, 0.2, 999)        \n",
    "        plot_geometry(geometry_x, geometry_y, 3.7, 20)\n",
    "\n",
    "        plot_agents(positions[j, 1:N-1], headings[j, 1:N-1], 2.3, 100, 0.7, 999, 0.1)\n",
    "    \n",
    "        #plot moving obstacle\n",
    "        plot_agents(positions[j, N:end], headings[j, N:end], 3.7, 97, 0.0, 999, 0.1)\n",
    "\n",
    "        model = op_model\n",
    "        timer = string(\"time \", round(j*dt_save, digits = 1), \"s\")\n",
    "        GR.text(0.5, 0.95, timer)\n",
    "        GR.text(0.5, 0.9, model)\n",
    "        \n",
    "        GR.updatews()\n",
    "    \n",
    "        j = j+1\n",
    "end"
   ]
  },
  {
   "cell_type": "code",
   "execution_count": null,
   "id": "a2b05ed8",
   "metadata": {
    "scrolled": false
   },
   "outputs": [],
   "source": [
    "GR.show()"
   ]
  },
  {
   "cell_type": "code",
   "execution_count": null,
   "id": "e5438696",
   "metadata": {},
   "outputs": [],
   "source": [
    "Path = \"/home/jakob/Dokumente/Sim_Data/\"\n",
    "dir = \"Intruder_NO_ANT_4\"\n",
    "header = Header(p, p_desc, sim_p, sim_p_desc, op_model, tact_model, order, update, N, system_size);\n",
    "\n",
    "Save_Data!(Path, dir, header, positions)"
   ]
  },
  {
   "cell_type": "code",
   "execution_count": null,
   "id": "f24cd2f8",
   "metadata": {},
   "outputs": [],
   "source": [
    "samples = 20\n",
    "\n",
    "for i in 1:samples\n",
    "    \n",
    "    Random.seed!()\n",
    "    \n",
    "    #if mod(i, 10) == 0\n",
    "        println(i)\n",
    "    #end\n",
    "    \n",
    "    Init_Hom_Vels!(menge, 0.0)\n",
    "    Init_Rand_Rect!(a0, a, b0, b, menge, geometrie)\n",
    "    initialize_random_headings(menge)\n",
    "\n",
    "    vel, l_obs = 0.3, 0.7\n",
    "\n",
    "    Init_Nth_Agent_as_Moving_Obstacle!(menge, system_size, l_obs, vel);\n",
    "    \n",
    "    positions, headings, ttcs = Simulate!(menge, geometrie, sim_p[1], sim_p[2], sim_p[3], sim_p[4], sim_p[5], system_size);\n",
    "    Save_Data!(Path, dir, header, positions)\n",
    "    \n",
    "end"
   ]
  },
  {
   "cell_type": "code",
   "execution_count": 46,
   "id": "e56506df",
   "metadata": {},
   "outputs": [
    {
     "data": {
      "text/plain": [
       "Init_Homogeneous_Random_InitialPositions (generic function with 1 method)"
      ]
     },
     "execution_count": 46,
     "metadata": {},
     "output_type": "execute_result"
    }
   ],
   "source": [
    "# if the system starts at (0, 0) i.e. x_{min}\n",
    "function Init_Homogeneous_Random_InitialPositions(menge::crowd, geometrie::geometry, system_size::NTuple{2, Float64},\n",
    "        ε::Float64)\n",
    "\n",
    "    ρ = ρ_global(menge, system_size, geometrie)\n",
    "    d_des = max(1/√ρ - ε, menge.agent[1].l)\n",
    "    \n",
    "    println(ρ)\n",
    "    \n",
    "    if ρ > 7.5\n",
    "        println(\"The density is too high!\")\n",
    "        false\n",
    "    end\n",
    "\n",
    "    for (i, a) in enumerate(menge.agent)\n",
    "\n",
    "       a.pos = rand()*system_size[1] , rand()*system_size[2]\n",
    "\n",
    "        while Too_Close(i, menge, geometrie, system_size, d_des)\n",
    "            a.pos = rand()*system_size[1] , rand()*system_size[2]\n",
    "        end\n",
    "\n",
    "    end\n",
    "end"
   ]
  },
  {
   "cell_type": "code",
   "execution_count": 47,
   "id": "0986f68b",
   "metadata": {},
   "outputs": [
    {
     "data": {
      "text/plain": [
       "Init_Homogeneous_Random_InitialPositions_INTRUDER (generic function with 1 method)"
      ]
     },
     "execution_count": 47,
     "metadata": {},
     "output_type": "execute_result"
    }
   ],
   "source": [
    "# if the system starts at (0, 0) i.e. x_{min}\n",
    "function Init_Homogeneous_Random_InitialPositions_INTRUDER(menge::crowd, geometrie::geometry, system_size::NTuple{2, Float64},\n",
    "        ε::Float64)\n",
    "\n",
    "    ρ = ρ_global(menge, system_size, geometrie)\n",
    "    d_des = max(1/√ρ - ε, menge.agent[1].l)\n",
    "    p_intruder = (system_size[1], system_size[2]/2)\n",
    "    \n",
    "    println(ρ)\n",
    "    \n",
    "    if ρ > 7.5\n",
    "        println(\"The density is too high!\")\n",
    "        false\n",
    "    end\n",
    "\n",
    "    for (i, a) in enumerate(menge.agent)\n",
    "\n",
    "       a.pos = rand()*system_size[1] , rand()*system_size[2]\n",
    "\n",
    "        while Too_Close(i, menge, geometrie, system_size, d_des) || d(a.pos, p_intruder, system_size) < d_des\n",
    "            a.pos = rand()*system_size[1] , rand()*system_size[2]\n",
    "        end\n",
    "\n",
    "    end\n",
    "end"
   ]
  },
  {
   "cell_type": "code",
   "execution_count": 7,
   "id": "e7c2fd74",
   "metadata": {},
   "outputs": [
    {
     "data": {
      "text/plain": [
       "0.5071067811865475"
      ]
     },
     "execution_count": 7,
     "metadata": {},
     "output_type": "execute_result"
    }
   ],
   "source": [
    "max(1/√2 - 0.2, 0.3)"
   ]
  },
  {
   "cell_type": "code",
   "execution_count": null,
   "id": "3e96bd14",
   "metadata": {},
   "outputs": [],
   "source": [
    "for a in menge.agent\n",
    "    if Min_R(a, menge, geometrie, system_size) < max(1/√ρ - 0.1, a.l)\n",
    "        println(\"JA\")\n",
    "    end\n",
    "end"
   ]
  },
  {
   "cell_type": "code",
   "execution_count": 12,
   "id": "ddbd9c4f",
   "metadata": {},
   "outputs": [
    {
     "data": {
      "text/plain": [
       "Too_Close (generic function with 2 methods)"
      ]
     },
     "execution_count": 12,
     "metadata": {},
     "output_type": "execute_result"
    }
   ],
   "source": [
    "function Too_Close(current_agent::Int, menge::crowd, geometrie::geometry, system_size, d_des)\n",
    "\n",
    "    for i in 1:current_agent-1\n",
    "\n",
    "        if d(menge.agent[current_agent], menge.agent[i], system_size) < d_des\n",
    "            return true\n",
    "        end\n",
    "    end\n",
    "\n",
    "    for x in geometrie.element\n",
    "\n",
    "        if d(menge.agent[current_agent], x, system_size) < d_des\n",
    "            return true\n",
    "        end\n",
    "    end\n",
    "\n",
    "    false\n",
    "end"
   ]
  },
  {
   "cell_type": "code",
   "execution_count": null,
   "id": "7f181c3f",
   "metadata": {},
   "outputs": [],
   "source": []
  }
 ],
 "metadata": {
  "kernelspec": {
   "display_name": "Julia 1.6.1",
   "language": "julia",
   "name": "julia-1.6"
  },
  "language_info": {
   "file_extension": ".jl",
   "mimetype": "application/julia",
   "name": "julia",
   "version": "1.6.1"
  }
 },
 "nbformat": 4,
 "nbformat_minor": 5
}
