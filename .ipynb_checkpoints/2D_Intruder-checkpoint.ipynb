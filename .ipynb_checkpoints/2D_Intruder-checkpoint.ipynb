{
 "cells": [
  {
   "cell_type": "code",
   "execution_count": 8,
   "id": "78f26696",
   "metadata": {},
   "outputs": [
    {
     "data": {
      "text/plain": [
       "\"/home/jakob/Dokumente/Repositories/Modeling_Framework/2D_Models/\""
      ]
     },
     "execution_count": 8,
     "metadata": {},
     "output_type": "execute_result"
    }
   ],
   "source": [
    "#### specify path of Julia Code for 2D Models ####\n",
    "### By default the working directory ./2D_Models ###\n",
    "path = string( pwd(), \"/2D_Models/\")"
   ]
  },
  {
   "cell_type": "code",
   "execution_count": 28,
   "id": "c34d98af",
   "metadata": {},
   "outputs": [],
   "source": [
    "##### include 2D Modelling Framework ####\n",
    "include(string(path, \"./2D_model_library.jl\"));\n",
    "\n",
    "\n",
    "########## OPERATIONAL ##########\n",
    "##### how to chose the actual velocity? #####\n",
    "\n",
    "op_model = \"Constant\"\n",
    "#op_model = \"Collision_Free_Speed\"\n",
    "#op_model = \"RVO\"\n",
    "#op_model = \"SocialForce\"\n",
    "#op_model = \"AV_Model\"\n",
    "#op_model = \"AV_IN_Model\"\n",
    "#op_model = \"PowerLaw\"\n",
    "#op_model = \"IN_Costfunction\"\n",
    "#op_model = \"IN_Model\"\n",
    "#op_model = \"SocialForce\"\n",
    "#op_model = \"SocialForce_Elliptical_A\"\n",
    "#op_model = \"SocialForce_Elliptical_B\"\n",
    "#op_model = \"SocialForce_CollisionPrediction\"\n",
    "\n",
    "\n",
    "include_op_model(op_model, path)\n",
    "\n",
    "########## TACTICAL ##########\n",
    "#### how to chose the preferred velocity? ###\n",
    "\n",
    "tact_model = \"Constant\"\n",
    "#tact_model = \"IN_Model\"\n",
    "\n",
    "include_tact_model(tact_model, path)\n",
    "\n",
    "\n",
    "########## STRATEGIC ##########\n",
    "### how to chose the desired velocity ###\n",
    "\n",
    "strat_model = \"Constant\"\n",
    "#strat_model = \"Towards_Goal\"\n",
    "#strat_model = \"Two_Goals\"\n",
    "\n",
    "include_strat_model(strat_model, path)\n",
    "\n",
    "\n",
    "########## OPTIMIZATION SCHEME ##########\n",
    "### If optimization of a cost-function is included, how to solve? ###\n",
    "\n",
    "#optimization_scheme = \"Regular_Sampling\"\n",
    "optimization_scheme = \"Random_Sampling\"\n",
    "\n",
    "include_optimization_scheme(optimization_scheme, path)\n",
    "\n",
    "\n",
    "##### which update scheme? #####\n",
    "\n",
    "update = \"Parallel_Update\"\n",
    "#update = \"Step_Update\"\n",
    "\n",
    "include_update(update, path)\n",
    "\n",
    "\n",
    "##### which order? i.e. Acceleration or Velocity based? ####\n",
    "#order = \"first\"\n",
    "order = \"second\"\n",
    "\n",
    "include_order(order, path)\n",
    "\n",
    "\n",
    "##### PERCEPTIONAL MODEL ####\n",
    "perception_model = \"None\"\n",
    "#perception_model = \"Only_in_Front\"\n",
    "\n",
    "include_perception_model(perception_model, path)"
   ]
  },
  {
   "cell_type": "code",
   "execution_count": 29,
   "id": "965a4dd1",
   "metadata": {},
   "outputs": [],
   "source": [
    "#### Special Scenario? ####\n",
    "x = \"Obstacle_Intruder\"\n",
    "#x = \"Diminish_ANT_LF\"\n",
    "\n",
    "load_scenario(x, path)"
   ]
  },
  {
   "cell_type": "code",
   "execution_count": 45,
   "id": "100a680c",
   "metadata": {},
   "outputs": [
    {
     "name": "stdout",
     "output_type": "stream",
     "text": [
      "1.004437468805768\n"
     ]
    },
    {
     "ename": "LoadError",
     "evalue": "MethodError: no method matching d(::agent, ::Tuple{Float64, Float64}, ::Tuple{Float64, Float64})\n\u001b[0mClosest candidates are:\n\u001b[0m  d(::agent, \u001b[91m::element\u001b[39m, ::Tuple{Float64, Float64}) at /home/jakob/Dokumente/Repositories/Modeling_Framework/2D_Models/General_Functions/Vectors.jl:34\n\u001b[0m  d(::agent, \u001b[91m::element\u001b[39m, ::Any, \u001b[91m::Any\u001b[39m) at /home/jakob/Dokumente/Repositories/Modeling_Framework/2D_Models/General_Functions/Vectors.jl:518\n\u001b[0m  d(::agent, \u001b[91m::agent\u001b[39m, ::Tuple{Float64, Float64}) at /home/jakob/Dokumente/Repositories/Modeling_Framework/2D_Models/General_Functions/Vectors.jl:20\n\u001b[0m  ...",
     "output_type": "error",
     "traceback": [
      "MethodError: no method matching d(::agent, ::Tuple{Float64, Float64}, ::Tuple{Float64, Float64})\n\u001b[0mClosest candidates are:\n\u001b[0m  d(::agent, \u001b[91m::element\u001b[39m, ::Tuple{Float64, Float64}) at /home/jakob/Dokumente/Repositories/Modeling_Framework/2D_Models/General_Functions/Vectors.jl:34\n\u001b[0m  d(::agent, \u001b[91m::element\u001b[39m, ::Any, \u001b[91m::Any\u001b[39m) at /home/jakob/Dokumente/Repositories/Modeling_Framework/2D_Models/General_Functions/Vectors.jl:518\n\u001b[0m  d(::agent, \u001b[91m::agent\u001b[39m, ::Tuple{Float64, Float64}) at /home/jakob/Dokumente/Repositories/Modeling_Framework/2D_Models/General_Functions/Vectors.jl:20\n\u001b[0m  ...",
      "",
      "Stacktrace:",
      " [1] Init_Homogeneous_Random_InitialPositions(menge::crowd, geometrie::geometry, system_size::Tuple{Float64, Float64}, ε::Float64)",
      "   @ Main ./In[23]:20",
      " [2] top-level scope",
      "   @ In[45]:27"
     ]
    }
   ],
   "source": [
    "#### parameters of the agents ####\n",
    "p = [1.0, 0.0, 3.0, 0.0, 0.3, 0.2, 0.0, 0.1, 0.02, 3/2, 0.0, 0.0, 0.5, 0.0]\n",
    "# ModelParameter: v_max, v_des, T, T2, l, l_min, τ_A, τ_R, α, β, ζ_h, ζ_v, r, ϕ\n",
    "p_desc = \"v_max, v_des, T, T2, l, l_min, τ_A, τ_R, α, β, ζ_h, ζ_v, r, ϕ\"\n",
    "\n",
    "### of the system ###\n",
    "ρ = 1.0\n",
    "system_size = (4.0, 4.0) #important for periodic boundaries\n",
    "N = Int(round(ρ*system_size[1]*system_size[2]))\n",
    "\n",
    "### of the simulation ###\n",
    "sim_p = [0.0, 1.0, 0.05, 0.01, 3.0] #t_relax, t_max, dt_save, dt, r\n",
    "sim_p_desc = \"t_relax, t_max, dt_save, dt, r\"\n",
    "\n",
    "### initialize geometry ###\n",
    "geometrie = create_geometry_single_obstacle((37.5,31.5), 0.3)\n",
    "\n",
    "### initialize crowd ###\n",
    "menge = create_crowd(N, geometrie)\n",
    "\n",
    "Init_Hom_Parameters!(p, menge)\n",
    "Init_Hom_Vels!(menge, 0.1)\n",
    "Init_E_des!(menge, (1.0, 0.0))\n",
    "\n",
    "#initialize_random_positions(system_size, menge, geometrie)\n",
    "#CrowdOneSide!(menge, 0.5, 0.0, 4.0)\n",
    "Init_Homogeneous_Random_InitialPositions(menge, geometrie, system_size, 0.2)\n",
    "\n",
    "Init_Random_Headings!(menge)\n",
    "\n",
    "vel, l_obs = 0.3, 0.7\n",
    "Init_Nth_Agent_as_Moving_Obstacle!(menge, system_size, l_obs, vel);"
   ]
  },
  {
   "cell_type": "code",
   "execution_count": 42,
   "id": "5f70d807",
   "metadata": {},
   "outputs": [],
   "source": [
    "positions, headings = Simulate!(menge, geometrie, sim_p[1], sim_p[2], sim_p[3], sim_p[4], sim_p[5], system_size);"
   ]
  },
  {
   "cell_type": "code",
   "execution_count": 43,
   "id": "9346425c",
   "metadata": {},
   "outputs": [],
   "source": [
    "using GR\n",
    "GR.inline(\"mov\")\n",
    "\n",
    "j = 1\n",
    "\n",
    "dt_save = sim_p[3]\n",
    "geometry_x, geometry_y = rewrite_geometry(geometrie)\n",
    "boundaries_x, boundaries_y = boundaries_rectangle_positions(system_size)\n",
    "\n",
    "while j*sim_p[3] < sim_p[2]-sim_p[1]\n",
    "    \n",
    "        GR.clearws()\n",
    "\n",
    "        GR.setwindow(-1, 11, -1, 11)\n",
    "        GR.setviewport(0.0, 1, 0.0, 1)\n",
    "    \n",
    "\n",
    "        plot_boundaries(boundaries_x, boundaries_y, 0.2, 999)        \n",
    "        plot_geometry(geometry_x, geometry_y, 3.7, 20)\n",
    "\n",
    "        plot_agents(positions[j, 1:N-1], headings[j, 1:N-1], 2.3, 100, 0.7, 999, 0.1)\n",
    "    \n",
    "        #plot moving obstacle\n",
    "        plot_agents(positions[j, N:end], headings[j, N:end], 3.7, 97, 0.0, 999, 0.1)\n",
    "\n",
    "        model = op_model\n",
    "        timer = string(\"time \", round(j*dt_save, digits = 1), \"s\")\n",
    "        GR.text(0.5, 0.95, timer)\n",
    "        GR.text(0.5, 0.9, model)\n",
    "        \n",
    "        GR.updatews()\n",
    "    \n",
    "        j = j+1\n",
    "end"
   ]
  },
  {
   "cell_type": "code",
   "execution_count": 44,
   "id": "a2b05ed8",
   "metadata": {
    "scrolled": false
   },
   "outputs": [
    {
     "data": {
      "text/html": [
       "<video autoplay controls><source type=\"video/mp4\" src=\"data:video/mp4;base64,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\"></video>"
      ],
      "text/plain": [
       "GR.HTML(\"<video autoplay controls><source type=\\\"video/mp4\\\" src=\\\"data:video/mp4;base64,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\\\"></video>\")"
      ]
     },
     "execution_count": 44,
     "metadata": {},
     "output_type": "execute_result"
    }
   ],
   "source": [
    "GR.show()"
   ]
  },
  {
   "cell_type": "code",
   "execution_count": null,
   "id": "e5438696",
   "metadata": {},
   "outputs": [],
   "source": [
    "Path = \"/home/jakob/Dokumente/Sim_Data/\"\n",
    "dir = \"Intruder_NO_ANT_4\"\n",
    "header = Header(p, p_desc, sim_p, sim_p_desc, op_model, tact_model, order, update, N, system_size);\n",
    "\n",
    "Save_Data!(Path, dir, header, positions)"
   ]
  },
  {
   "cell_type": "code",
   "execution_count": null,
   "id": "f24cd2f8",
   "metadata": {},
   "outputs": [],
   "source": [
    "samples = 20\n",
    "\n",
    "for i in 1:samples\n",
    "    \n",
    "    Random.seed!()\n",
    "    \n",
    "    #if mod(i, 10) == 0\n",
    "        println(i)\n",
    "    #end\n",
    "    \n",
    "    Init_Hom_Vels!(menge, 0.0)\n",
    "    Init_Rand_Rect!(a0, a, b0, b, menge, geometrie)\n",
    "    initialize_random_headings(menge)\n",
    "\n",
    "    vel, l_obs = 0.3, 0.7\n",
    "\n",
    "    Init_Nth_Agent_as_Moving_Obstacle!(menge, system_size, l_obs, vel);\n",
    "    \n",
    "    positions, headings, ttcs = Simulate!(menge, geometrie, sim_p[1], sim_p[2], sim_p[3], sim_p[4], sim_p[5], system_size);\n",
    "    Save_Data!(Path, dir, header, positions)\n",
    "    \n",
    "end"
   ]
  },
  {
   "cell_type": "code",
   "execution_count": 46,
   "id": "1bd7aae7",
   "metadata": {},
   "outputs": [
    {
     "data": {
      "text/plain": [
       "Init_Homogeneous_Random_InitialPositions (generic function with 1 method)"
      ]
     },
     "execution_count": 46,
     "metadata": {},
     "output_type": "execute_result"
    }
   ],
   "source": [
    "# if the system starts at (0, 0) i.e. x_{min}\n",
    "function Init_Homogeneous_Random_InitialPositions(menge::crowd, geometrie::geometry, system_size::NTuple{2, Float64},\n",
    "        ε::Float64)\n",
    "\n",
    "    ρ = ρ_global(menge, system_size, geometrie)\n",
    "    d_des = max(1/√ρ - ε, menge.agent[1].l)\n",
    "    \n",
    "    println(ρ)\n",
    "    \n",
    "    if ρ > 7.5\n",
    "        println(\"The density is too high!\")\n",
    "        false\n",
    "    end\n",
    "\n",
    "    for (i, a) in enumerate(menge.agent)\n",
    "\n",
    "       a.pos = rand()*system_size[1] , rand()*system_size[2]\n",
    "\n",
    "        while Too_Close(i, menge, geometrie, system_size, d_des)\n",
    "            a.pos = rand()*system_size[1] , rand()*system_size[2]\n",
    "        end\n",
    "\n",
    "    end\n",
    "end"
   ]
  },
  {
   "cell_type": "code",
   "execution_count": 36,
   "id": "d7ce0f7a",
   "metadata": {},
   "outputs": [
    {
     "data": {
      "text/plain": [
       "Init_Homogeneous_Random_InitialPositions_INTRUDER (generic function with 1 method)"
      ]
     },
     "execution_count": 36,
     "metadata": {},
     "output_type": "execute_result"
    }
   ],
   "source": [
    "# if the system starts at (0, 0) i.e. x_{min}\n",
    "function Init_Homogeneous_Random_InitialPositions_INTRUDER(menge::crowd, geometrie::geometry, system_size::NTuple{2, Float64},\n",
    "        ε::Float64)\n",
    "\n",
    "    ρ = ρ_global(menge, system_size, geometrie)\n",
    "    d_des = max(1/√ρ - ε, menge.agent[1].l)\n",
    "    p_intruder = (system_size[1], system_size[2]/2)\n",
    "    \n",
    "    println(ρ)\n",
    "    \n",
    "    if ρ > 7.5\n",
    "        println(\"The density is too high!\")\n",
    "        false\n",
    "    end\n",
    "\n",
    "    for (i, a) in enumerate(menge.agent)\n",
    "\n",
    "       a.pos = rand()*system_size[1] , rand()*system_size[2]\n",
    "\n",
    "        while Too_Close(i, menge, geometrie, system_size, d_des) || d(a.pos, p_intruder, system_size) < d_des\n",
    "            a.pos = rand()*system_size[1] , rand()*system_size[2]\n",
    "        end\n",
    "\n",
    "    end\n",
    "end"
   ]
  },
  {
   "cell_type": "code",
   "execution_count": 7,
   "id": "996d60a8",
   "metadata": {},
   "outputs": [
    {
     "data": {
      "text/plain": [
       "0.5071067811865475"
      ]
     },
     "execution_count": 7,
     "metadata": {},
     "output_type": "execute_result"
    }
   ],
   "source": [
    "max(1/√2 - 0.2, 0.3)"
   ]
  },
  {
   "cell_type": "code",
   "execution_count": null,
   "id": "a8159de1",
   "metadata": {},
   "outputs": [],
   "source": [
    "for a in menge.agent\n",
    "    if Min_R(a, menge, geometrie, system_size) < max(1/√ρ - 0.1, a.l)\n",
    "        println(\"JA\")\n",
    "    end\n",
    "end"
   ]
  },
  {
   "cell_type": "code",
   "execution_count": 12,
   "id": "da47b516",
   "metadata": {},
   "outputs": [
    {
     "data": {
      "text/plain": [
       "Too_Close (generic function with 2 methods)"
      ]
     },
     "execution_count": 12,
     "metadata": {},
     "output_type": "execute_result"
    }
   ],
   "source": [
    "function Too_Close(current_agent::Int, menge::crowd, geometrie::geometry, system_size, d_des)\n",
    "\n",
    "    for i in 1:current_agent-1\n",
    "\n",
    "        if d(menge.agent[current_agent], menge.agent[i], system_size) < d_des\n",
    "            return true\n",
    "        end\n",
    "    end\n",
    "\n",
    "    for x in geometrie.element\n",
    "\n",
    "        if d(menge.agent[current_agent], x, system_size) < d_des\n",
    "            return true\n",
    "        end\n",
    "    end\n",
    "\n",
    "    false\n",
    "end"
   ]
  },
  {
   "cell_type": "code",
   "execution_count": null,
   "id": "ac3f21f1",
   "metadata": {},
   "outputs": [],
   "source": []
  }
 ],
 "metadata": {
  "kernelspec": {
   "display_name": "Julia 1.6.1",
   "language": "julia",
   "name": "julia-1.6"
  },
  "language_info": {
   "file_extension": ".jl",
   "mimetype": "application/julia",
   "name": "julia",
   "version": "1.6.1"
  }
 },
 "nbformat": 4,
 "nbformat_minor": 5
}
