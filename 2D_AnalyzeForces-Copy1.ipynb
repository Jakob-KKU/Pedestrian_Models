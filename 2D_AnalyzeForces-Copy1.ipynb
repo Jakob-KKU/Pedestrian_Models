{
 "cells": [
  {
   "cell_type": "code",
   "execution_count": 94,
   "id": "78f26696",
   "metadata": {},
   "outputs": [
    {
     "data": {
      "text/plain": [
       "\"/home/jakob/Dokumente/Repositories/Modeling_Framework/2D_Models/\""
      ]
     },
     "execution_count": 94,
     "metadata": {},
     "output_type": "execute_result"
    }
   ],
   "source": [
    "#### specify path of Julia Code for 2D Models ####\n",
    "### By default the working directory ./2D_Models ###\n",
    "path = string( pwd(), \"/2D_Models/\")"
   ]
  },
  {
   "cell_type": "code",
   "execution_count": 105,
   "id": "c34d98af",
   "metadata": {},
   "outputs": [
    {
     "name": "stdout",
     "output_type": "stream",
     "text": [
      "The following parameters were given in karamouzas_UniversalPowerLaw_2014:\n",
      "[2.0, 1.7, 3.0, 0.0, 0.3, 0.0, 0.0, 0.5, 0.33, 0.0, 0.0, 0.0, 0.0, 0.0]\n",
      "v_max, v_des, T, T2, l, step_time, τ_A, τ_R, α, β, ζ_h, ζ_v, r, λ\n"
     ]
    }
   ],
   "source": [
    "##### include 2D Modelling Framework ####\n",
    "include(string(path, \"./2D_model_library.jl\"));\n",
    "\n",
    "\n",
    "########## OPERATIONAL ##########\n",
    "##### how to chose the actual velocity? #####\n",
    "\n",
    "#op_model = \"Constant\"\n",
    "#op_model = \"Collision_Free_Speed\"\n",
    "#op_model = \"Collision_Free_Speed_XU\"\n",
    "#op_model = \"RVO\"\n",
    "#op_model = \"SocialForce\"\n",
    "#op_model = \"AV_Model\"\n",
    "#op_model = \"AV_IN_Model\"\n",
    "op_model = \"PowerLaw\"\n",
    "#op_model = \"IN_Costfunction\"\n",
    "#op_model = \"IN_Model\"\n",
    "#op_model = \"SocialForce\"\n",
    "#op_model = \"SocialForce_Elliptical_A\"\n",
    "#op_model = \"SocialForce_Elliptical_B\"\n",
    "#op_model = \"SocialForce_CollisionPrediction\"\n",
    "#op_model = \"SocialForce_Rotation\"\n",
    "#op_model = \"Centrifugal_Force\"\n",
    "#op_model = \"Generalized_Centrifugal_Force\"\n",
    "\n",
    "\n",
    "include_op_model(op_model, path)\n",
    "\n",
    "########## TACTICAL ##########\n",
    "#### how to chose the preferred velocity? ###\n",
    "\n",
    "tact_model = \"Constant\"\n",
    "#tact_model = \"IN_Model\"\n",
    "\n",
    "include_tact_model(tact_model, path)\n",
    "\n",
    "\n",
    "########## STRATEGIC ##########\n",
    "### how to chose the desired velocity ###\n",
    "\n",
    "strat_model = \"Constant\"\n",
    "#strat_model = \"Towards_Goal\"\n",
    "#strat_model = \"Two_Goals\"\n",
    "\n",
    "\n",
    "include_strat_model(strat_model, path)\n",
    "\n",
    "\n",
    "########## OPTIMIZATION SCHEME ##########\n",
    "### If optimization of a cost-function is included, how to solve? ###\n",
    "\n",
    "#optimization_scheme = \"Regular_Sampling\"\n",
    "optimization_scheme = \"Random_Sampling\"\n",
    "\n",
    "include_optimization_scheme(optimization_scheme, path)\n",
    "\n",
    "\n",
    "##### which update scheme? #####\n",
    "\n",
    "update = \"Parallel_Update\"\n",
    "#update = \"Step_Update\"\n",
    "\n",
    "include_update(update, path)\n",
    "\n",
    "\n",
    "##### which order? i.e. Acceleration or Velocity based? ####\n",
    "#order = \"first\"\n",
    "order = \"second\"\n",
    "\n",
    "include_order(order, path)\n",
    "\n",
    "\n",
    "##### PERCEPTIONAL MODEL ####\n",
    "perception_model = \"None\"\n",
    "#perception_model = \"Only_in_Front\"\n",
    "\n",
    "include_perception_model(perception_model, path)"
   ]
  },
  {
   "cell_type": "code",
   "execution_count": 106,
   "id": "100a680c",
   "metadata": {},
   "outputs": [],
   "source": [
    "\n",
    "### of the system ###\n",
    "N = 2\n",
    "system_size = (100.0, 100.0) #important for periodic boundaries\n",
    "\n",
    "### initialize geometry ###\n",
    "geometrie = create_geometry_single_obstacle((37.5,31.5), 0.3)\n",
    "\n",
    "### initialize crowd ###\n",
    "menge = create_crowd(N, geometrie);\n",
    "Init_Hom_Parameters!(p, menge)\n",
    "\n",
    "a = menge.agent[1]\n",
    "b = menge.agent[2];\n",
    "\n",
    "\n",
    "a.e_des = (1.0, 0.0)\n",
    "a.vel = 0.5\n",
    "a.heading = normalize((1.0, 0.0))\n",
    "a.e_pref = a.e_des\n",
    "a.v_pref = a.v_des\n",
    "a.l = 0.3\n",
    "\n",
    "\n",
    "b.vel = 0.5\n",
    "b.l = 0.3\n",
    "b.heading = normalize((-1.0, 0.0))\n",
    "b.pos = (0.0001, 0.0001)\n",
    "\n",
    "Update_Neighborhood!(menge, geometrie, system_size, 5.0)"
   ]
  },
  {
   "cell_type": "code",
   "execution_count": 107,
   "id": "a9d33fae",
   "metadata": {},
   "outputs": [
    {
     "data": {
      "text/plain": [
       "1.7"
      ]
     },
     "execution_count": 107,
     "metadata": {},
     "output_type": "execute_result"
    }
   ],
   "source": [
    "a.v_pref"
   ]
  },
  {
   "cell_type": "code",
   "execution_count": 110,
   "id": "750e72e7",
   "metadata": {},
   "outputs": [
    {
     "data": {
      "text/plain": [
       "([-1.75, -1.75, -1.75, -1.75, -1.75, -1.75, -1.75, -1.75, -1.75, -1.75  …  1.75, 1.75, 1.75, 1.75, 1.75, 1.75, 1.75, 1.75, 1.75, 1.75], [-1.75, -1.5, -1.25, -1.0, -0.75, -0.5, -0.25, 0.0, 0.25, 0.5  …  -0.5, -0.25, 0.0, 0.25, 0.5, 0.75, 1.0, 1.25, 1.5, 1.75], [1.7, 1.7, 1.7, 1.7, 1.7, 1.7, 0.5856188538073954, 0.20661214031640074, 0.5849144824432801, 1.7  …  1.7, 1.7, 1.7, 1.7, 1.7, 1.7, 1.7, 1.7, 1.7, 1.7], [0.0, 0.0, 0.0, 0.0, 0.0, 0.0, -1.6721437487198365, 0.0019889277905038583, 1.6854842520070612, 0.0  …  0.0, 0.0, 0.0, 0.0, 0.0, 0.0, 0.0, 0.0, 0.0, 0.0])"
      ]
     },
     "execution_count": 110,
     "metadata": {},
     "output_type": "execute_result"
    }
   ],
   "source": [
    "dx = 0.25\n",
    "space = collect(-2.0+dx:dx:2.0-dx)\n",
    "\n",
    "Grid_x, Grid_y, v_x, v_y = Calculate_Direction_Matrix(a, b, menge, geometrie, system_size, space, space)"
   ]
  },
  {
   "cell_type": "code",
   "execution_count": 111,
   "id": "8c3ff02f",
   "metadata": {},
   "outputs": [
    {
     "data": {
      "text/plain": [
       "\"/home/jakob/Dokumente/Field_Lines_PowerLaw.png\""
      ]
     },
     "execution_count": 111,
     "metadata": {},
     "output_type": "execute_result"
    }
   ],
   "source": [
    "using Plots\n",
    "using LaTeXStrings, ColorSchemes\n",
    "\n",
    "Plots.scalefontsizes()\n",
    "Plots.scalefontsizes(2)\n",
    "\n",
    "plot(layout=(1,1), legend=:topleft, legendfontsize = 15, grid = false,\n",
    "    xtickfontsize=15, ytickfontsize=15, xguidefontsize=20, yguidefontsize=20)\n",
    "\n",
    "ϵ = 0.01\n",
    "v_x, v_y = Round_Velocities(v_x, v_y, ϵ)\n",
    "\n",
    "scale = (dx-0.05)/a.v_max\n",
    "\n",
    "#plot velocity grid\n",
    "scatter!(Grid_x, Grid_y, label =:false,  markersize=2, msw=0, color=:darkblue)\n",
    "quiver!(Grid_x, Grid_y, quiver = scale .*(v_x, v_y), color =:darkblue, linewidth=2.5)\n",
    "\n",
    "\n",
    "#plot intruder\n",
    "scatter!((0.0, 0.0), label =:false,  markersize=40, msw=2, alpha = 1.0, color =:lightblue)\n",
    "\n",
    "b_vel = -1 .*Δv(a, b)\n",
    "\n",
    "if abs(b_vel) > 0.01\n",
    "    quiver!([0.2], [0.0], quiver = 0.4.*([b_vel[1]], [b_vel[2]]), color =:black, linewidth=3.8, thickness_scaling = 1)\n",
    "end\n",
    "\n",
    "#reference velocity\n",
    "quiver!([0.5], [-1.5], quiver = (scale*[2.0], [0.0]), color =:red, linewidth=5, thickness_scaling = 1)\n",
    "\n",
    "plot!(xlabel=L\"$x$ $[m]$\")\n",
    "plot!(ylabel=L\"$y$ $[m]$\")\n",
    "\n",
    "x_min, x_max = -2, 2\n",
    "y_min, y_max = -2, 2\n",
    "\n",
    "x_ticks = collect(x_min:1:x_max)\n",
    "y_ticks = collect(y_min:1:y_max)\n",
    "\n",
    "plot!(yticks=(x_ticks, Create_LaTeXString(x_ticks)))\n",
    "plot!(xticks=(y_ticks, Create_LaTeXString(y_ticks)))\n",
    "\n",
    "plot!(xlims = [x_min, x_max])\n",
    "plot!(ylims = [y_min, y_max])\n",
    "\n",
    "plot!(size=(600,600), margin = 0.7Plots.cm)\n",
    "savefig(string(\"/home/jakob/Dokumente/Field_Lines_\", op_model, \".png\"))"
   ]
  },
  {
   "cell_type": "code",
   "execution_count": null,
   "id": "a53b1f41",
   "metadata": {},
   "outputs": [],
   "source": []
  },
  {
   "cell_type": "code",
   "execution_count": null,
   "id": "6c0bddf9",
   "metadata": {},
   "outputs": [],
   "source": []
  }
 ],
 "metadata": {
  "kernelspec": {
   "display_name": "Julia 1.6.1",
   "language": "julia",
   "name": "julia-1.6"
  },
  "language_info": {
   "file_extension": ".jl",
   "mimetype": "application/julia",
   "name": "julia",
   "version": "1.6.1"
  }
 },
 "nbformat": 4,
 "nbformat_minor": 5
}
